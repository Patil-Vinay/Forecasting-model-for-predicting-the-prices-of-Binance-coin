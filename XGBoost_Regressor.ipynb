{
  "nbformat": 4,
  "nbformat_minor": 0,
  "metadata": {
    "colab": {
      "name": "XGBoost Regressor",
      "provenance": [],
      "collapsed_sections": []
    },
    "kernelspec": {
      "name": "python3",
      "display_name": "Python 3"
    }
  },
  "cells": [
    {
      "cell_type": "markdown",
      "metadata": {
        "id": "NvUGC8QQV6bV"
      },
      "source": [
        "## Importing the libraries"
      ]
    },
    {
      "cell_type": "code",
      "metadata": {
        "id": "wfFEXZC0WS-V"
      },
      "source": [
        "import numpy as np\n",
        "import matplotlib.pyplot as plt\n",
        "import pandas as pd\n",
        "\n",
        "from sklearn.model_selection import cross_val_score\n",
        "from sklearn.metrics import mean_squared_error\n",
        "\n",
        "import warnings\n",
        "warnings.filterwarnings('ignore')"
      ],
      "execution_count": 1,
      "outputs": []
    },
    {
      "cell_type": "markdown",
      "metadata": {
        "id": "fhYaZ-ENV_c5"
      },
      "source": [
        "## Importing the dataset"
      ]
    },
    {
      "cell_type": "code",
      "metadata": {
        "id": "aqHTg9bxWT_u"
      },
      "source": [
        "dataset = pd.read_csv('Binance Coin - Historic data.csv')\n"
      ],
      "execution_count": 2,
      "outputs": []
    },
    {
      "cell_type": "code",
      "metadata": {
        "colab": {
          "base_uri": "https://localhost:8080/"
        },
        "id": "oHpV-SMEb5SA",
        "outputId": "ebfbaf9c-2dcc-4561-dc54-628f55a72965"
      },
      "source": [
        "dataset.head()\n",
        "print(dataset.columns)\n",
        "dataset.info()"
      ],
      "execution_count": 3,
      "outputs": [
        {
          "output_type": "stream",
          "name": "stdout",
          "text": [
            "Index(['Date', 'Price(in dollars)', 'Open', 'High', 'Low', 'Vol.', 'Change%'], dtype='object')\n",
            "<class 'pandas.core.frame.DataFrame'>\n",
            "RangeIndex: 1357 entries, 0 to 1356\n",
            "Data columns (total 7 columns):\n",
            " #   Column             Non-Null Count  Dtype  \n",
            "---  ------             --------------  -----  \n",
            " 0   Date               1357 non-null   object \n",
            " 1   Price(in dollars)  1357 non-null   float64\n",
            " 2   Open               1357 non-null   float64\n",
            " 3   High               1357 non-null   float64\n",
            " 4   Low                1357 non-null   float64\n",
            " 5   Vol.               1357 non-null   object \n",
            " 6   Change%            1357 non-null   float64\n",
            "dtypes: float64(5), object(2)\n",
            "memory usage: 74.3+ KB\n"
          ]
        }
      ]
    },
    {
      "cell_type": "code",
      "metadata": {
        "colab": {
          "base_uri": "https://localhost:8080/"
        },
        "id": "hL5MZCDrcVW1",
        "outputId": "e03cb59c-b458-4ec6-f045-f062e34b9901"
      },
      "source": [
        "for x in range(dataset['Vol.'].shape[0]):\n",
        "    val = dataset[\"Vol.\"].iloc[x]\n",
        "    if \"M\" in val:\n",
        "        dataset[\"Vol.\"].iloc[x] = float(val[:-1]) * 1000000\n",
        "        pass\n",
        "    elif \"K\" in val:\n",
        "        dataset[\"Vol.\"].iloc[x] = float(val[:-1]) * 1000\n",
        "dataset[\"Vol.\"]"
      ],
      "execution_count": 4,
      "outputs": [
        {
          "output_type": "execute_result",
          "data": {
            "text/plain": [
              "0       2.26e+06\n",
              "1       2.86e+06\n",
              "2       1.25e+06\n",
              "3       1.81e+06\n",
              "4       1.98e+06\n",
              "          ...   \n",
              "1352      166010\n",
              "1353      456480\n",
              "1354      256710\n",
              "1355      483230\n",
              "1356      283350\n",
              "Name: Vol., Length: 1357, dtype: object"
            ]
          },
          "metadata": {},
          "execution_count": 4
        }
      ]
    },
    {
      "cell_type": "code",
      "metadata": {
        "id": "wc8MWY2ahF6t",
        "colab": {
          "base_uri": "https://localhost:8080/"
        },
        "outputId": "5f95f8d0-d985-44ff-8567-eedfb3578628"
      },
      "source": [
        "dataset['Vol.']=pd.to_numeric(dataset['Vol.'],errors='coerce')\n",
        "dataset.info()"
      ],
      "execution_count": 5,
      "outputs": [
        {
          "output_type": "stream",
          "name": "stdout",
          "text": [
            "<class 'pandas.core.frame.DataFrame'>\n",
            "RangeIndex: 1357 entries, 0 to 1356\n",
            "Data columns (total 7 columns):\n",
            " #   Column             Non-Null Count  Dtype  \n",
            "---  ------             --------------  -----  \n",
            " 0   Date               1357 non-null   object \n",
            " 1   Price(in dollars)  1357 non-null   float64\n",
            " 2   Open               1357 non-null   float64\n",
            " 3   High               1357 non-null   float64\n",
            " 4   Low                1357 non-null   float64\n",
            " 5   Vol.               1356 non-null   float64\n",
            " 6   Change%            1357 non-null   float64\n",
            "dtypes: float64(6), object(1)\n",
            "memory usage: 74.3+ KB\n"
          ]
        }
      ]
    },
    {
      "cell_type": "code",
      "metadata": {
        "id": "DWySGDtThhqa",
        "colab": {
          "base_uri": "https://localhost:8080/",
          "height": 419
        },
        "outputId": "28f3c68d-fcb1-4364-ca9f-e3b1057413d4"
      },
      "source": [
        "dataset['Date'] = pd.to_datetime(dataset['Date'])\n",
        "dataset['month'] = dataset['Date'].dt.month\n",
        "dataset['year'] = dataset['Date'].dt.year\n",
        "dataset['month_year'] = dataset['Date'].dt.to_period('M')\n",
        "dataset"
      ],
      "execution_count": 6,
      "outputs": [
        {
          "output_type": "execute_result",
          "data": {
            "text/html": [
              "<div>\n",
              "<style scoped>\n",
              "    .dataframe tbody tr th:only-of-type {\n",
              "        vertical-align: middle;\n",
              "    }\n",
              "\n",
              "    .dataframe tbody tr th {\n",
              "        vertical-align: top;\n",
              "    }\n",
              "\n",
              "    .dataframe thead th {\n",
              "        text-align: right;\n",
              "    }\n",
              "</style>\n",
              "<table border=\"1\" class=\"dataframe\">\n",
              "  <thead>\n",
              "    <tr style=\"text-align: right;\">\n",
              "      <th></th>\n",
              "      <th>Date</th>\n",
              "      <th>Price(in dollars)</th>\n",
              "      <th>Open</th>\n",
              "      <th>High</th>\n",
              "      <th>Low</th>\n",
              "      <th>Vol.</th>\n",
              "      <th>Change%</th>\n",
              "      <th>month</th>\n",
              "      <th>year</th>\n",
              "      <th>month_year</th>\n",
              "    </tr>\n",
              "  </thead>\n",
              "  <tbody>\n",
              "    <tr>\n",
              "      <th>0</th>\n",
              "      <td>2021-07-27</td>\n",
              "      <td>303.29</td>\n",
              "      <td>304.31</td>\n",
              "      <td>307.62</td>\n",
              "      <td>298.53</td>\n",
              "      <td>2260000.0</td>\n",
              "      <td>-0.33</td>\n",
              "      <td>7</td>\n",
              "      <td>2021</td>\n",
              "      <td>2021-07</td>\n",
              "    </tr>\n",
              "    <tr>\n",
              "      <th>1</th>\n",
              "      <td>2021-07-26</td>\n",
              "      <td>304.31</td>\n",
              "      <td>302.60</td>\n",
              "      <td>327.62</td>\n",
              "      <td>301.19</td>\n",
              "      <td>2860000.0</td>\n",
              "      <td>0.58</td>\n",
              "      <td>7</td>\n",
              "      <td>2021</td>\n",
              "      <td>2021-07</td>\n",
              "    </tr>\n",
              "    <tr>\n",
              "      <th>2</th>\n",
              "      <td>2021-07-25</td>\n",
              "      <td>302.57</td>\n",
              "      <td>302.55</td>\n",
              "      <td>303.09</td>\n",
              "      <td>292.85</td>\n",
              "      <td>1250000.0</td>\n",
              "      <td>-0.19</td>\n",
              "      <td>7</td>\n",
              "      <td>2021</td>\n",
              "      <td>2021-07</td>\n",
              "    </tr>\n",
              "    <tr>\n",
              "      <th>3</th>\n",
              "      <td>2021-07-24</td>\n",
              "      <td>303.15</td>\n",
              "      <td>298.91</td>\n",
              "      <td>305.01</td>\n",
              "      <td>296.16</td>\n",
              "      <td>1810000.0</td>\n",
              "      <td>1.42</td>\n",
              "      <td>7</td>\n",
              "      <td>2021</td>\n",
              "      <td>2021-07</td>\n",
              "    </tr>\n",
              "    <tr>\n",
              "      <th>4</th>\n",
              "      <td>2021-07-23</td>\n",
              "      <td>298.89</td>\n",
              "      <td>293.51</td>\n",
              "      <td>301.15</td>\n",
              "      <td>281.68</td>\n",
              "      <td>1980000.0</td>\n",
              "      <td>1.83</td>\n",
              "      <td>7</td>\n",
              "      <td>2021</td>\n",
              "      <td>2021-07</td>\n",
              "    </tr>\n",
              "    <tr>\n",
              "      <th>...</th>\n",
              "      <td>...</td>\n",
              "      <td>...</td>\n",
              "      <td>...</td>\n",
              "      <td>...</td>\n",
              "      <td>...</td>\n",
              "      <td>...</td>\n",
              "      <td>...</td>\n",
              "      <td>...</td>\n",
              "      <td>...</td>\n",
              "      <td>...</td>\n",
              "    </tr>\n",
              "    <tr>\n",
              "      <th>1352</th>\n",
              "      <td>2017-11-13</td>\n",
              "      <td>1.68</td>\n",
              "      <td>1.49</td>\n",
              "      <td>1.74</td>\n",
              "      <td>1.49</td>\n",
              "      <td>166010.0</td>\n",
              "      <td>12.75</td>\n",
              "      <td>11</td>\n",
              "      <td>2017</td>\n",
              "      <td>2017-11</td>\n",
              "    </tr>\n",
              "    <tr>\n",
              "      <th>1353</th>\n",
              "      <td>2017-11-12</td>\n",
              "      <td>1.49</td>\n",
              "      <td>1.66</td>\n",
              "      <td>1.70</td>\n",
              "      <td>1.34</td>\n",
              "      <td>456480.0</td>\n",
              "      <td>-10.24</td>\n",
              "      <td>11</td>\n",
              "      <td>2017</td>\n",
              "      <td>2017-11</td>\n",
              "    </tr>\n",
              "    <tr>\n",
              "      <th>1354</th>\n",
              "      <td>2017-11-11</td>\n",
              "      <td>1.66</td>\n",
              "      <td>1.71</td>\n",
              "      <td>1.93</td>\n",
              "      <td>1.58</td>\n",
              "      <td>256710.0</td>\n",
              "      <td>-2.92</td>\n",
              "      <td>11</td>\n",
              "      <td>2017</td>\n",
              "      <td>2017-11</td>\n",
              "    </tr>\n",
              "    <tr>\n",
              "      <th>1355</th>\n",
              "      <td>2017-11-10</td>\n",
              "      <td>1.71</td>\n",
              "      <td>1.99</td>\n",
              "      <td>2.02</td>\n",
              "      <td>1.60</td>\n",
              "      <td>483230.0</td>\n",
              "      <td>-14.07</td>\n",
              "      <td>11</td>\n",
              "      <td>2017</td>\n",
              "      <td>2017-11</td>\n",
              "    </tr>\n",
              "    <tr>\n",
              "      <th>1356</th>\n",
              "      <td>2017-11-09</td>\n",
              "      <td>1.99</td>\n",
              "      <td>1.99</td>\n",
              "      <td>2.20</td>\n",
              "      <td>1.90</td>\n",
              "      <td>283350.0</td>\n",
              "      <td>0.00</td>\n",
              "      <td>11</td>\n",
              "      <td>2017</td>\n",
              "      <td>2017-11</td>\n",
              "    </tr>\n",
              "  </tbody>\n",
              "</table>\n",
              "<p>1357 rows × 10 columns</p>\n",
              "</div>"
            ],
            "text/plain": [
              "           Date  Price(in dollars)    Open  ...  month  year  month_year\n",
              "0    2021-07-27             303.29  304.31  ...      7  2021     2021-07\n",
              "1    2021-07-26             304.31  302.60  ...      7  2021     2021-07\n",
              "2    2021-07-25             302.57  302.55  ...      7  2021     2021-07\n",
              "3    2021-07-24             303.15  298.91  ...      7  2021     2021-07\n",
              "4    2021-07-23             298.89  293.51  ...      7  2021     2021-07\n",
              "...         ...                ...     ...  ...    ...   ...         ...\n",
              "1352 2017-11-13               1.68    1.49  ...     11  2017     2017-11\n",
              "1353 2017-11-12               1.49    1.66  ...     11  2017     2017-11\n",
              "1354 2017-11-11               1.66    1.71  ...     11  2017     2017-11\n",
              "1355 2017-11-10               1.71    1.99  ...     11  2017     2017-11\n",
              "1356 2017-11-09               1.99    1.99  ...     11  2017     2017-11\n",
              "\n",
              "[1357 rows x 10 columns]"
            ]
          },
          "metadata": {},
          "execution_count": 6
        }
      ]
    },
    {
      "cell_type": "code",
      "metadata": {
        "colab": {
          "base_uri": "https://localhost:8080/",
          "height": 724
        },
        "id": "ci5Xra2mkt-h",
        "outputId": "0132c7bc-5d62-4981-d195-533746fc0310"
      },
      "source": [
        "import seaborn as sns\n",
        "sns.set(rc = {'figure.figsize' : (14,12)})\n",
        "sns.heatmap(dataset.corr().round(2) , annot = True )"
      ],
      "execution_count": 7,
      "outputs": [
        {
          "output_type": "execute_result",
          "data": {
            "text/plain": [
              "<matplotlib.axes._subplots.AxesSubplot at 0x7f87fb96fcd0>"
            ]
          },
          "metadata": {},
          "execution_count": 7
        },
        {
          "output_type": "display_data",
          "data": {
            "image/png": "[encoded data removed]",
            "text/plain": [
              "<Figure size 1008x864 with 2 Axes>"
            ]
          },
          "metadata": {}
        }
      ]
    },
    {
      "cell_type": "code",
      "metadata": {
        "colab": {
          "base_uri": "https://localhost:8080/",
          "height": 419
        },
        "id": "JWhyBNsJ9iPV",
        "outputId": "aa926a42-f175-4f01-a190-5361f29049dc"
      },
      "source": [
        "dataset = dataset.drop(columns=['Vol.','Change%','month'])\n",
        "dataset"
      ],
      "execution_count": 8,
      "outputs": [
        {
          "output_type": "execute_result",
          "data": {
            "text/html": [
              "<div>\n",
              "<style scoped>\n",
              "    .dataframe tbody tr th:only-of-type {\n",
              "        vertical-align: middle;\n",
              "    }\n",
              "\n",
              "    .dataframe tbody tr th {\n",
              "        vertical-align: top;\n",
              "    }\n",
              "\n",
              "    .dataframe thead th {\n",
              "        text-align: right;\n",
              "    }\n",
              "</style>\n",
              "<table border=\"1\" class=\"dataframe\">\n",
              "  <thead>\n",
              "    <tr style=\"text-align: right;\">\n",
              "      <th></th>\n",
              "      <th>Date</th>\n",
              "      <th>Price(in dollars)</th>\n",
              "      <th>Open</th>\n",
              "      <th>High</th>\n",
              "      <th>Low</th>\n",
              "      <th>year</th>\n",
              "      <th>month_year</th>\n",
              "    </tr>\n",
              "  </thead>\n",
              "  <tbody>\n",
              "    <tr>\n",
              "      <th>0</th>\n",
              "      <td>2021-07-27</td>\n",
              "      <td>303.29</td>\n",
              "      <td>304.31</td>\n",
              "      <td>307.62</td>\n",
              "      <td>298.53</td>\n",
              "      <td>2021</td>\n",
              "      <td>2021-07</td>\n",
              "    </tr>\n",
              "    <tr>\n",
              "      <th>1</th>\n",
              "      <td>2021-07-26</td>\n",
              "      <td>304.31</td>\n",
              "      <td>302.60</td>\n",
              "      <td>327.62</td>\n",
              "      <td>301.19</td>\n",
              "      <td>2021</td>\n",
              "      <td>2021-07</td>\n",
              "    </tr>\n",
              "    <tr>\n",
              "      <th>2</th>\n",
              "      <td>2021-07-25</td>\n",
              "      <td>302.57</td>\n",
              "      <td>302.55</td>\n",
              "      <td>303.09</td>\n",
              "      <td>292.85</td>\n",
              "      <td>2021</td>\n",
              "      <td>2021-07</td>\n",
              "    </tr>\n",
              "    <tr>\n",
              "      <th>3</th>\n",
              "      <td>2021-07-24</td>\n",
              "      <td>303.15</td>\n",
              "      <td>298.91</td>\n",
              "      <td>305.01</td>\n",
              "      <td>296.16</td>\n",
              "      <td>2021</td>\n",
              "      <td>2021-07</td>\n",
              "    </tr>\n",
              "    <tr>\n",
              "      <th>4</th>\n",
              "      <td>2021-07-23</td>\n",
              "      <td>298.89</td>\n",
              "      <td>293.51</td>\n",
              "      <td>301.15</td>\n",
              "      <td>281.68</td>\n",
              "      <td>2021</td>\n",
              "      <td>2021-07</td>\n",
              "    </tr>\n",
              "    <tr>\n",
              "      <th>...</th>\n",
              "      <td>...</td>\n",
              "      <td>...</td>\n",
              "      <td>...</td>\n",
              "      <td>...</td>\n",
              "      <td>...</td>\n",
              "      <td>...</td>\n",
              "      <td>...</td>\n",
              "    </tr>\n",
              "    <tr>\n",
              "      <th>1352</th>\n",
              "      <td>2017-11-13</td>\n",
              "      <td>1.68</td>\n",
              "      <td>1.49</td>\n",
              "      <td>1.74</td>\n",
              "      <td>1.49</td>\n",
              "      <td>2017</td>\n",
              "      <td>2017-11</td>\n",
              "    </tr>\n",
              "    <tr>\n",
              "      <th>1353</th>\n",
              "      <td>2017-11-12</td>\n",
              "      <td>1.49</td>\n",
              "      <td>1.66</td>\n",
              "      <td>1.70</td>\n",
              "      <td>1.34</td>\n",
              "      <td>2017</td>\n",
              "      <td>2017-11</td>\n",
              "    </tr>\n",
              "    <tr>\n",
              "      <th>1354</th>\n",
              "      <td>2017-11-11</td>\n",
              "      <td>1.66</td>\n",
              "      <td>1.71</td>\n",
              "      <td>1.93</td>\n",
              "      <td>1.58</td>\n",
              "      <td>2017</td>\n",
              "      <td>2017-11</td>\n",
              "    </tr>\n",
              "    <tr>\n",
              "      <th>1355</th>\n",
              "      <td>2017-11-10</td>\n",
              "      <td>1.71</td>\n",
              "      <td>1.99</td>\n",
              "      <td>2.02</td>\n",
              "      <td>1.60</td>\n",
              "      <td>2017</td>\n",
              "      <td>2017-11</td>\n",
              "    </tr>\n",
              "    <tr>\n",
              "      <th>1356</th>\n",
              "      <td>2017-11-09</td>\n",
              "      <td>1.99</td>\n",
              "      <td>1.99</td>\n",
              "      <td>2.20</td>\n",
              "      <td>1.90</td>\n",
              "      <td>2017</td>\n",
              "      <td>2017-11</td>\n",
              "    </tr>\n",
              "  </tbody>\n",
              "</table>\n",
              "<p>1357 rows × 7 columns</p>\n",
              "</div>"
            ],
            "text/plain": [
              "           Date  Price(in dollars)    Open    High     Low  year month_year\n",
              "0    2021-07-27             303.29  304.31  307.62  298.53  2021    2021-07\n",
              "1    2021-07-26             304.31  302.60  327.62  301.19  2021    2021-07\n",
              "2    2021-07-25             302.57  302.55  303.09  292.85  2021    2021-07\n",
              "3    2021-07-24             303.15  298.91  305.01  296.16  2021    2021-07\n",
              "4    2021-07-23             298.89  293.51  301.15  281.68  2021    2021-07\n",
              "...         ...                ...     ...     ...     ...   ...        ...\n",
              "1352 2017-11-13               1.68    1.49    1.74    1.49  2017    2017-11\n",
              "1353 2017-11-12               1.49    1.66    1.70    1.34  2017    2017-11\n",
              "1354 2017-11-11               1.66    1.71    1.93    1.58  2017    2017-11\n",
              "1355 2017-11-10               1.71    1.99    2.02    1.60  2017    2017-11\n",
              "1356 2017-11-09               1.99    1.99    2.20    1.90  2017    2017-11\n",
              "\n",
              "[1357 rows x 7 columns]"
            ]
          },
          "metadata": {},
          "execution_count": 8
        }
      ]
    },
    {
      "cell_type": "code",
      "metadata": {
        "id": "FeQ3klDWEhBM"
      },
      "source": [
        "X = np.array(dataset.iloc[ : , 2 : 5].values)\n",
        "y = dataset.iloc[:, 1].values"
      ],
      "execution_count": 9,
      "outputs": []
    },
    {
      "cell_type": "code",
      "metadata": {
        "colab": {
          "base_uri": "https://localhost:8080/"
        },
        "id": "WrptLU1n0j__",
        "outputId": "c933fc70-0a90-4464-bb03-26f21556fb0e"
      },
      "source": [
        "print(X)"
      ],
      "execution_count": 10,
      "outputs": [
        {
          "output_type": "stream",
          "name": "stdout",
          "text": [
            "[[304.31 307.62 298.53]\n",
            " [302.6  327.62 301.19]\n",
            " [302.55 303.09 292.85]\n",
            " ...\n",
            " [  1.71   1.93   1.58]\n",
            " [  1.99   2.02   1.6 ]\n",
            " [  1.99   2.2    1.9 ]]\n"
          ]
        }
      ]
    },
    {
      "cell_type": "markdown",
      "metadata": {
        "id": "D_pbLWeCSnh5"
      },
      "source": [
        "##Splitting data into Training and Testing"
      ]
    },
    {
      "cell_type": "code",
      "metadata": {
        "id": "u_o7ZcenGTmh"
      },
      "source": [
        "from sklearn.model_selection import train_test_split\n",
        "X_train, X_test, y_train, y_test = train_test_split(X, y, test_size = 0.2, random_state = 0)"
      ],
      "execution_count": 11,
      "outputs": []
    },
    {
      "cell_type": "markdown",
      "metadata": {
        "id": "M7cYfCVVD3Jh"
      },
      "source": [
        "##*Training the XGBoost model on the Training set*"
      ]
    },
    {
      "cell_type": "code",
      "metadata": {
        "colab": {
          "base_uri": "https://localhost:8080/"
        },
        "id": "M2fyBai2GYT4",
        "outputId": "e6aaf09f-57d6-474f-ed9f-a568e75a9921"
      },
      "source": [
        "from xgboost import XGBRegressor\n",
        "regressor = XGBRegressor(objective =\"reg:squarederror\")\n",
        "regressor.fit(X_train, y_train)"
      ],
      "execution_count": 12,
      "outputs": [
        {
          "output_type": "execute_result",
          "data": {
            "text/plain": [
              "XGBRegressor(base_score=0.5, booster='gbtree', colsample_bylevel=1,\n",
              "             colsample_bynode=1, colsample_bytree=1, gamma=0,\n",
              "             importance_type='gain', learning_rate=0.1, max_delta_step=0,\n",
              "             max_depth=3, min_child_weight=1, missing=None, n_estimators=100,\n",
              "             n_jobs=1, nthread=None, objective='reg:squarederror',\n",
              "             random_state=0, reg_alpha=0, reg_lambda=1, scale_pos_weight=1,\n",
              "             seed=None, silent=None, subsample=1, verbosity=1)"
            ]
          },
          "metadata": {},
          "execution_count": 12
        }
      ]
    },
    {
      "cell_type": "markdown",
      "metadata": {
        "id": "vQTmm0eRMzEu"
      },
      "source": [
        "## Predicting the Test set results"
      ]
    },
    {
      "cell_type": "code",
      "metadata": {
        "colab": {
          "base_uri": "https://localhost:8080/"
        },
        "id": "WaHHIRRIUi6_",
        "outputId": "00f5ec00-1dfa-4bc2-d258-a51c5bf3bf69"
      },
      "source": [
        "y_pred = regressor.predict(X_test)\n",
        "mse = mean_squared_error(y_test, y_pred)\n",
        "print(\"MSE: %.2f\" % mse)\n",
        "print(\"RMSE: %.2f\" % (mse**(1/2.0)))"
      ],
      "execution_count": 13,
      "outputs": [
        {
          "output_type": "stream",
          "name": "stdout",
          "text": [
            "MSE: 25.39\n",
            "RMSE: 5.04\n"
          ]
        }
      ]
    },
    {
      "cell_type": "code",
      "metadata": {
        "colab": {
          "base_uri": "https://localhost:8080/"
        },
        "id": "_uTcCf7VUmfC",
        "outputId": "3e7f87d8-2340-4104-85b2-383aa57d562d"
      },
      "source": [
        "score = regressor.score(X_train, y_train)  \n",
        "print(\"Training score: \", score)\n",
        "scores = cross_val_score(regressor, X_train, y_train,cv=10)\n",
        "print(\"Mean cross-validation score: %.2f\" % scores.mean())"
      ],
      "execution_count": 14,
      "outputs": [
        {
          "output_type": "stream",
          "name": "stdout",
          "text": [
            "Training score:  0.9997230780728985\n",
            "Mean cross-validation score: 1.00\n"
          ]
        }
      ]
    },
    {
      "cell_type": "code",
      "metadata": {
        "colab": {
          "base_uri": "https://localhost:8080/"
        },
        "id": "jpo6h9yAL5iv",
        "outputId": "d28f976f-9744-448e-a4aa-d577e1ccd7a0"
      },
      "source": [
        "np.set_printoptions(precision=2)\n",
        "print(np.concatenate((y_pred.reshape(len(y_pred),1), y_test.reshape(len(y_test),1)),1))"
      ],
      "execution_count": 15,
      "outputs": [
        {
          "output_type": "stream",
          "name": "stdout",
          "text": [
            "[[  5.47   5.66]\n",
            " [ 19.78  19.9 ]\n",
            " [  9.56   9.49]\n",
            " [  7.99   6.7 ]\n",
            " [  2.93   2.66]\n",
            " [ 14.63  15.6 ]\n",
            " [ 16.34  17.13]\n",
            " [ 23.75  23.07]\n",
            " [ 15.53  15.01]\n",
            " [ 18.33  18.24]\n",
            " [ 27.78  28.58]\n",
            " [ 13.56  13.99]\n",
            " [  2.93   2.79]\n",
            " [ 13.56  13.78]\n",
            " [  6.21   6.26]\n",
            " [ 30.11  29.2 ]\n",
            " [ 13.58  13.73]\n",
            " [ 26.3   26.23]\n",
            " [ 28.89  28.92]\n",
            " [ 10.02  10.39]\n",
            " [ 12.15  11.97]\n",
            " [479.52 472.25]\n",
            " [ 12.28  12.12]\n",
            " [ 23.75  23.13]\n",
            " [  2.27   1.55]\n",
            " [  5.71   6.  ]\n",
            " [  9.68   9.69]\n",
            " [ 12.18  11.89]\n",
            " [  3.44   2.65]\n",
            " [ 20.21  20.55]\n",
            " [274.62 279.45]\n",
            " [ 17.79  17.91]\n",
            " [ 29.48  29.74]\n",
            " [ 14.61  14.14]\n",
            " [ 10.02   9.94]\n",
            " [  6.69   6.87]\n",
            " [ 10.74  11.35]\n",
            " [  6.59   6.48]\n",
            " [286.49 296.14]\n",
            " [651.64 676.56]\n",
            " [ 19.78  19.64]\n",
            " [ 27.49  27.3 ]\n",
            " [ 22.38  22.18]\n",
            " [  5.2    4.29]\n",
            " [  7.99   7.85]\n",
            " [  9.5    9.37]\n",
            " [ 25.29  26.32]\n",
            " [ 14.63  15.3 ]\n",
            " [  8.7    8.72]\n",
            " [ 15.63  15.76]\n",
            " [ 15.34  14.91]\n",
            " [ 15.63  15.51]\n",
            " [ 17.79  17.28]\n",
            " [ 29.76  30.26]\n",
            " [ 23.6   24.03]\n",
            " [ 12.18  12.18]\n",
            " [412.97 427.59]\n",
            " [ 22.38  22.5 ]\n",
            " [  9.31   9.34]\n",
            " [ 10.74  11.04]\n",
            " [ 13.12  13.02]\n",
            " [  5.89   5.88]\n",
            " [ 13.56  13.64]\n",
            " [  5.99   5.89]\n",
            " [ 18.33  18.24]\n",
            " [303.85 293.53]\n",
            " [ 12.28  12.71]\n",
            " [ 13.12  12.77]\n",
            " [329.92 343.23]\n",
            " [ 17.99  16.93]\n",
            " [374.58 401.12]\n",
            " [ 12.35  11.94]\n",
            " [ 10.51  10.13]\n",
            " [ 44.06  42.43]\n",
            " [ 26.3   26.94]\n",
            " [412.97 390.09]\n",
            " [ 14.61  13.36]\n",
            " [ 27.98  28.09]\n",
            " [ 17.87  17.99]\n",
            " [ 19.78  19.93]\n",
            " [ 15.63  15.7 ]\n",
            " [ 23.6   23.45]\n",
            " [ 14.63  15.12]\n",
            " [ 33.13  33.3 ]\n",
            " [  5.2    5.18]\n",
            " [ 27.49  26.98]\n",
            " [ 14.33  14.29]\n",
            " [ 15.98  16.43]\n",
            " [ 40.19  41.1 ]\n",
            " [ 17.79  17.53]\n",
            " [  9.91   9.59]\n",
            " [ 15.63  15.95]\n",
            " [  7.99   8.38]\n",
            " [ 22.38  22.48]\n",
            " [298.5  298.89]\n",
            " [ 17.99  16.01]\n",
            " [ 18.33  18.41]\n",
            " [ 29.76  29.51]\n",
            " [251.08 233.7 ]\n",
            " [  7.04   6.15]\n",
            " [ 27.69  28.1 ]\n",
            " [ 27.82  27.48]\n",
            " [ 33.13  33.78]\n",
            " [ 10.67  10.77]\n",
            " [ 12.28  12.55]\n",
            " [224.9  240.59]\n",
            " [ 30.39  30.04]\n",
            " [ 21.87  21.54]\n",
            " [ 17.79  16.55]\n",
            " [ 10.51   9.89]\n",
            " [  7.99   8.03]\n",
            " [315.43 310.52]\n",
            " [ 41.42  41.82]\n",
            " [  8.7    8.59]\n",
            " [ 19.78  20.16]\n",
            " [224.9  240.02]\n",
            " [ 32.66  33.62]\n",
            " [ 21.89  22.59]\n",
            " [ 14.33  13.88]\n",
            " [ 32.13  31.22]\n",
            " [  5.99   5.96]\n",
            " [314.21 316.77]\n",
            " [ 13.83  12.97]\n",
            " [ 27.69  27.66]\n",
            " [ 25.29  24.53]\n",
            " [401.01 390.97]\n",
            " [ 10.67  10.68]\n",
            " [ 15.98  16.29]\n",
            " [129.29 130.09]\n",
            " [360.93 351.43]\n",
            " [ 20.21  20.95]\n",
            " [ 13.56  13.47]\n",
            " [ 14.29  14.08]\n",
            " [ 41.42  42.19]\n",
            " [  7.99   8.45]\n",
            " [ 25.29  24.28]\n",
            " [  9.68   9.52]\n",
            " [  6.21   6.09]\n",
            " [  5.47   5.6 ]\n",
            " [  6.69   6.95]\n",
            " [346.83 336.67]\n",
            " [ 16.61  16.58]\n",
            " [ 14.32  13.72]\n",
            " [313.07 304.31]\n",
            " [ 20.21  19.9 ]\n",
            " [ 18.13  17.56]\n",
            " [  2.34   1.87]\n",
            " [ 22.38  22.35]\n",
            " [ 28.69  28.51]\n",
            " [ 12.15  12.6 ]\n",
            " [323.79 325.59]\n",
            " [156.83 195.74]\n",
            " [ 29.19  27.11]\n",
            " [ 23.75  24.03]\n",
            " [  9.68   9.82]\n",
            " [ 14.52  14.54]\n",
            " [ 11.41  11.77]\n",
            " [ 28.84  29.16]\n",
            " [ 17.79  17.31]\n",
            " [ 15.98  15.91]\n",
            " [ 13.83  12.94]\n",
            " [ 27.69  28.14]\n",
            " [  9.31   9.25]\n",
            " [ 25.29  25.53]\n",
            " [314.21 308.98]\n",
            " [ 13.56  13.76]\n",
            " [ 12.28  12.03]\n",
            " [  9.68   9.39]\n",
            " [ 20.23  21.88]\n",
            " [ 21.89  21.76]\n",
            " [ 35.32  35.94]\n",
            " [ 15.33  15.28]\n",
            " [ 28.76  28.49]\n",
            " [ 10.02   9.92]\n",
            " [229.74 234.25]\n",
            " [ 28.03  27.7 ]\n",
            " [ 19.78  20.17]\n",
            " [ 18.33  18.2 ]\n",
            " [305.3  302.18]\n",
            " [ 15.63  15.27]\n",
            " [ 18.33  18.19]\n",
            " [ 14.52  14.74]\n",
            " [ 31.03  31.43]\n",
            " [ 18.33  18.17]\n",
            " [ 33.13  32.71]\n",
            " [623.33 646.18]\n",
            " [ 16.61  16.84]\n",
            " [ 25.29  24.89]\n",
            " [ 29.76  29.56]\n",
            " [  6.69   6.53]\n",
            " [ 12.28  12.29]\n",
            " [ 14.27  13.19]\n",
            " [ 23.6   23.06]\n",
            " [ 10.02  10.06]\n",
            " [361.38 367.46]\n",
            " [ 15.71  16.11]\n",
            " [  9.91   9.7 ]\n",
            " [519.99 535.23]\n",
            " [ 13.12  12.81]\n",
            " [ 14.29  13.89]\n",
            " [351.11 352.64]\n",
            " [587.69 571.76]\n",
            " [ 14.33  14.96]\n",
            " [280.41 292.99]\n",
            " [ 17.79  18.07]\n",
            " [ 21.89  22.33]\n",
            " [ 19.78  18.89]\n",
            " [ 17.99  18.3 ]\n",
            " [  8.7    9.22]\n",
            " [  9.91   9.58]\n",
            " [ 15.9   15.71]\n",
            " [ 39.55  40.87]\n",
            " [  9.5    9.94]\n",
            " [286.49 293.76]\n",
            " [ 30.39  30.42]\n",
            " [351.11 362.39]\n",
            " [290.02 280.47]\n",
            " [ 28.74  28.59]\n",
            " [  7.99   7.65]\n",
            " [  2.93   2.46]\n",
            " [  6.59   6.46]\n",
            " [ 17.79  17.39]\n",
            " [294.32 303.25]\n",
            " [ 17.79  17.71]\n",
            " [ 15.53  15.15]\n",
            " [ 27.98  28.69]\n",
            " [ 13.56  13.81]\n",
            " [ 14.52  15.12]\n",
            " [  9.31   8.92]\n",
            " [ 10.02   9.97]\n",
            " [ 17.65  21.33]\n",
            " [ 15.98  16.04]\n",
            " [ 14.61  14.39]\n",
            " [ 12.18  12.3 ]\n",
            " [ 15.98  16.22]\n",
            " [ 15.98  16.39]\n",
            " [ 13.12  13.02]\n",
            " [ 30.99  31.16]\n",
            " [  9.91   9.59]\n",
            " [ 14.33  14.68]\n",
            " [ 28.03  27.68]\n",
            " [ 10.67  10.4 ]\n",
            " [ 16.61  17.  ]\n",
            " [ 22.38  23.24]\n",
            " [ 30.11  28.5 ]\n",
            " [ 27.69  27.96]\n",
            " [ 15.63  15.16]\n",
            " [  9.56   9.48]\n",
            " [ 13.56  13.81]\n",
            " [ 23.75  25.4 ]\n",
            " [ 14.33  14.64]\n",
            " [ 34.61  35.12]\n",
            " [ 16.61  17.2 ]\n",
            " [ 14.33  14.26]\n",
            " [ 43.59  43.1 ]\n",
            " [ 31.73  32.51]\n",
            " [  6.21   6.06]\n",
            " [ 16.61  16.09]\n",
            " [ 14.33  14.55]\n",
            " [ 13.56  13.3 ]\n",
            " [ 14.5   14.93]\n",
            " [  7.99   8.01]\n",
            " [  4.86   4.77]\n",
            " [ 17.79  17.62]\n",
            " [ 14.61  15.63]\n",
            " [ 23.75  25.14]\n",
            " [ 16.61  16.56]\n",
            " [ 18.33  18.44]\n",
            " [ 27.98  28.07]\n",
            " [ 19.78  20.1 ]\n",
            " [ 15.63  15.84]\n",
            " [ 12.28  12.79]]\n"
          ]
        }
      ]
    },
    {
      "cell_type": "code",
      "metadata": {
        "colab": {
          "base_uri": "https://localhost:8080/",
          "height": 485
        },
        "id": "8cfsJ72RPk70",
        "outputId": "6db082ee-ec70-4002-b8e7-869ff0762db6"
      },
      "source": [
        " plt.figure(figsize = (16,8))\n",
        " plt.plot(y_pred, label='Predicted Values')\n",
        " plt.plot(y_test, label='True/Correct values')\n",
        " plt.legend(loc='best')\n",
        " plt.show() "
      ],
      "execution_count": 16,
      "outputs": [
        {
          "output_type": "display_data",
          "data": {
            "image/png": "[encoded data removed]",
            "text/plain": [
              "<Figure size 1152x576 with 1 Axes>"
            ]
          },
          "metadata": {}
        }
      ]
    }
  ]
}